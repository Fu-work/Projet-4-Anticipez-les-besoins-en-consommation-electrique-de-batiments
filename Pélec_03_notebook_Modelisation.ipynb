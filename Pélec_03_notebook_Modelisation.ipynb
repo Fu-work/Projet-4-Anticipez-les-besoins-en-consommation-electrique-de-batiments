{
 "cells": [
  {
   "cell_type": "markdown",
   "id": "e9492163",
   "metadata": {},
   "source": [
    "# P4    MODELISATION"
   ]
  },
  {
   "cell_type": "markdown",
   "id": "0808db79",
   "metadata": {},
   "source": [
    "## Librairies"
   ]
  },
  {
   "cell_type": "code",
   "execution_count": 175,
   "id": "9f2cf10c",
   "metadata": {},
   "outputs": [],
   "source": [
    "import pandas as pd\n",
    "from sklearn.pipeline import Pipeline\n",
    "from sklearn.model_selection import StratifiedKFold, KFold\n",
    "from sklearn.model_selection import train_test_split\n",
    "from sklearn.model_selection import cross_val_score, cross_val_predict\n",
    "from sklearn.model_selection import GridSearchCV\n",
    "from sklearn.preprocessing import StandardScaler\n",
    "#\n",
    "from sklearn.svm import SVR\n",
    "# Lineaire\n",
    "from sklearn.linear_model import LinearRegression\n",
    "from sklearn.linear_model import ElasticNet\n",
    "from sklearn.linear_model import Lasso\n",
    "from sklearn.linear_model import Ridge\n",
    "from sklearn.neighbors import KNeighborsRegressor\n",
    " \n",
    "# Ensemble\n",
    "from sklearn.ensemble import RandomForestRegressor\n",
    "\n",
    "\n",
    "import sklearn.metrics \n",
    "from sklearn import metrics\n",
    "import matplotlib.pyplot  as plt\n",
    "import numpy as np"
   ]
  },
  {
   "cell_type": "markdown",
   "id": "8f729def",
   "metadata": {},
   "source": [
    "## Importation du dataset"
   ]
  },
  {
   "cell_type": "code",
   "execution_count": 176,
   "id": "8ec34209",
   "metadata": {},
   "outputs": [],
   "source": [
    "# LECTURE DONNEES\n",
    "# path='/content/drive/MyDrive/df_reduit_cleaned.csv'\n",
    "path='df15_16_clean.csv'\n",
    "df=pd.read_csv(path)"
   ]
  },
  {
   "cell_type": "markdown",
   "id": "a9caeca3",
   "metadata": {},
   "source": [
    "## Preparation des données"
   ]
  },
  {
   "cell_type": "code",
   "execution_count": 177,
   "id": "18dbbb4e",
   "metadata": {},
   "outputs": [
    {
     "data": {
      "text/html": [
       "<div>\n",
       "<style scoped>\n",
       "    .dataframe tbody tr th:only-of-type {\n",
       "        vertical-align: middle;\n",
       "    }\n",
       "\n",
       "    .dataframe tbody tr th {\n",
       "        vertical-align: top;\n",
       "    }\n",
       "\n",
       "    .dataframe thead th {\n",
       "        text-align: right;\n",
       "    }\n",
       "</style>\n",
       "<table border=\"1\" class=\"dataframe\">\n",
       "  <thead>\n",
       "    <tr style=\"text-align: right;\">\n",
       "      <th></th>\n",
       "      <th>Unnamed: 0</th>\n",
       "      <th>Longitude</th>\n",
       "      <th>Latitude</th>\n",
       "      <th>Address</th>\n",
       "      <th>GHGEmissionsIntensity(kgCO2e/ft2)</th>\n",
       "      <th>CouncilDistrictCode</th>\n",
       "      <th>Neighborhood</th>\n",
       "      <th>NumberofBuildings</th>\n",
       "      <th>YearBuilt</th>\n",
       "      <th>ZipCode</th>\n",
       "      <th>PropertyGFATotal</th>\n",
       "      <th>Electricity(kBtu)_Prc</th>\n",
       "      <th>NaturalGas(kBtu)_Prc</th>\n",
       "      <th>SteamUse(kBtu)_Prc</th>\n",
       "      <th>ENERGYSTARScore</th>\n",
       "      <th>TotalGHGEmissions</th>\n",
       "      <th>SiteEnergyUse(kBtu)</th>\n",
       "    </tr>\n",
       "  </thead>\n",
       "  <tbody>\n",
       "    <tr>\n",
       "      <th>0</th>\n",
       "      <td>1</td>\n",
       "      <td>-122.320787</td>\n",
       "      <td>47.547734</td>\n",
       "      <td>6100 CORSON AVE S</td>\n",
       "      <td>1.88</td>\n",
       "      <td>2</td>\n",
       "      <td>GREATER DUWAMISH</td>\n",
       "      <td>1.0</td>\n",
       "      <td>1992</td>\n",
       "      <td>98108.0</td>\n",
       "      <td>22452</td>\n",
       "      <td>0.435589</td>\n",
       "      <td>0.564411</td>\n",
       "      <td>0.0</td>\n",
       "      <td>78.0</td>\n",
       "      <td>44.71</td>\n",
       "      <td>1354219.0</td>\n",
       "    </tr>\n",
       "    <tr>\n",
       "      <th>1</th>\n",
       "      <td>3</td>\n",
       "      <td>-122.333131</td>\n",
       "      <td>47.626359</td>\n",
       "      <td>800 FAIRVIEW AVE N</td>\n",
       "      <td>1.64</td>\n",
       "      <td>3</td>\n",
       "      <td>LAKE UNION</td>\n",
       "      <td>1.0</td>\n",
       "      <td>1990</td>\n",
       "      <td>98109.0</td>\n",
       "      <td>282863</td>\n",
       "      <td>0.565004</td>\n",
       "      <td>0.434996</td>\n",
       "      <td>0.0</td>\n",
       "      <td>40.0</td>\n",
       "      <td>509.18</td>\n",
       "      <td>18829136.0</td>\n",
       "    </tr>\n",
       "  </tbody>\n",
       "</table>\n",
       "</div>"
      ],
      "text/plain": [
       "   Unnamed: 0   Longitude   Latitude             Address  \\\n",
       "0           1 -122.320787  47.547734   6100 CORSON AVE S   \n",
       "1           3 -122.333131  47.626359  800 FAIRVIEW AVE N   \n",
       "\n",
       "   GHGEmissionsIntensity(kgCO2e/ft2)  CouncilDistrictCode      Neighborhood  \\\n",
       "0                               1.88                    2  GREATER DUWAMISH   \n",
       "1                               1.64                    3        LAKE UNION   \n",
       "\n",
       "   NumberofBuildings  YearBuilt  ZipCode  PropertyGFATotal  \\\n",
       "0                1.0       1992  98108.0             22452   \n",
       "1                1.0       1990  98109.0            282863   \n",
       "\n",
       "   Electricity(kBtu)_Prc  NaturalGas(kBtu)_Prc  SteamUse(kBtu)_Prc  \\\n",
       "0               0.435589              0.564411                 0.0   \n",
       "1               0.565004              0.434996                 0.0   \n",
       "\n",
       "   ENERGYSTARScore  TotalGHGEmissions  SiteEnergyUse(kBtu)  \n",
       "0             78.0              44.71            1354219.0  \n",
       "1             40.0             509.18           18829136.0  "
      ]
     },
     "execution_count": 177,
     "metadata": {},
     "output_type": "execute_result"
    }
   ],
   "source": [
    "df.head(2)"
   ]
  },
  {
   "cell_type": "code",
   "execution_count": 178,
   "id": "0a780170",
   "metadata": {},
   "outputs": [],
   "source": [
    "df=df.set_index('Unnamed: 0')"
   ]
  },
  {
   "cell_type": "code",
   "execution_count": 179,
   "id": "440d5828",
   "metadata": {},
   "outputs": [
    {
     "data": {
      "text/plain": [
       "(1975, 16)"
      ]
     },
     "execution_count": 179,
     "metadata": {},
     "output_type": "execute_result"
    }
   ],
   "source": [
    "df.shape"
   ]
  },
  {
   "cell_type": "markdown",
   "id": "8c4f9309",
   "metadata": {},
   "source": [
    "### Suppression de variables"
   ]
  },
  {
   "cell_type": "code",
   "execution_count": 180,
   "id": "4e21a8ec",
   "metadata": {},
   "outputs": [],
   "source": [
    "df.drop(['Longitude','Latitude','Address','Neighborhood','ZipCode'],axis=1,inplace=True)"
   ]
  },
  {
   "cell_type": "raw",
   "id": "d22493ba",
   "metadata": {},
   "source": []
  },
  {
   "cell_type": "code",
   "execution_count": 181,
   "id": "4bd988c9",
   "metadata": {},
   "outputs": [
    {
     "data": {
      "text/plain": [
       "Index(['GHGEmissionsIntensity(kgCO2e/ft2)', 'CouncilDistrictCode',\n",
       "       'NumberofBuildings', 'YearBuilt', 'PropertyGFATotal',\n",
       "       'Electricity(kBtu)_Prc', 'NaturalGas(kBtu)_Prc', 'SteamUse(kBtu)_Prc',\n",
       "       'ENERGYSTARScore', 'TotalGHGEmissions', 'SiteEnergyUse(kBtu)'],\n",
       "      dtype='object')"
      ]
     },
     "execution_count": 181,
     "metadata": {},
     "output_type": "execute_result"
    }
   ],
   "source": [
    "#Reorganisation des colonnes\n",
    "df.columns"
   ]
  },
  {
   "cell_type": "code",
   "execution_count": 182,
   "id": "5956da55",
   "metadata": {},
   "outputs": [
    {
     "data": {
      "text/plain": [
       "NumberofBuildings\n",
       "1.0                  1938\n",
       "0.0                    24\n",
       "2.0                     4\n",
       "4.0                     2\n",
       "6.0                     2\n",
       "7.0                     2\n",
       "3.0                     1\n",
       "8.0                     1\n",
       "9.0                     1\n",
       "dtype: int64"
      ]
     },
     "execution_count": 182,
     "metadata": {},
     "output_type": "execute_result"
    }
   ],
   "source": [
    "# Traitement variable 'NumberofBuildings'\n",
    "df[['NumberofBuildings']].value_counts()\n"
   ]
  },
  {
   "cell_type": "code",
   "execution_count": 183,
   "id": "76f493d9",
   "metadata": {},
   "outputs": [],
   "source": [
    "# Dummisation de la variable 'NumberofBuildings'\n",
    "df=pd.get_dummies(df,columns = ['CouncilDistrictCode'],sparse=False)"
   ]
  },
  {
   "cell_type": "code",
   "execution_count": 184,
   "id": "1e872c9a",
   "metadata": {},
   "outputs": [
    {
     "data": {
      "text/plain": [
       "Index(['GHGEmissionsIntensity(kgCO2e/ft2)', 'NumberofBuildings', 'YearBuilt',\n",
       "       'PropertyGFATotal', 'Electricity(kBtu)_Prc', 'NaturalGas(kBtu)_Prc',\n",
       "       'SteamUse(kBtu)_Prc', 'ENERGYSTARScore', 'TotalGHGEmissions',\n",
       "       'SiteEnergyUse(kBtu)', 'CouncilDistrictCode_1', 'CouncilDistrictCode_2',\n",
       "       'CouncilDistrictCode_3', 'CouncilDistrictCode_4',\n",
       "       'CouncilDistrictCode_5', 'CouncilDistrictCode_6',\n",
       "       'CouncilDistrictCode_7'],\n",
       "      dtype='object')"
      ]
     },
     "execution_count": 184,
     "metadata": {},
     "output_type": "execute_result"
    }
   ],
   "source": [
    "df.columns"
   ]
  },
  {
   "cell_type": "code",
   "execution_count": 185,
   "id": "e5cf3311",
   "metadata": {},
   "outputs": [
    {
     "name": "stdout",
     "output_type": "stream",
     "text": [
      "Nombre de variables restantes: 17\n"
     ]
    }
   ],
   "source": [
    "print(\"Nombre de variables restantes:\",len(df.columns))"
   ]
  },
  {
   "cell_type": "markdown",
   "id": "6daa802b",
   "metadata": {},
   "source": [
    "### Distridution des variables à prédire"
   ]
  },
  {
   "cell_type": "code",
   "execution_count": 186,
   "id": "dd1c9d0c",
   "metadata": {},
   "outputs": [
    {
     "data": {
      "text/plain": [
       "array([[<AxesSubplot:title={'center':'SiteEnergyUse(kBtu)'}>,\n",
       "        <AxesSubplot:title={'center':'TotalGHGEmissions'}>]], dtype=object)"
      ]
     },
     "execution_count": 186,
     "metadata": {},
     "output_type": "execute_result"
    },
    {
     "data": {
      "image/png": "[encoded data removed]",
      "text/plain": [
       "<Figure size 1008x288 with 2 Axes>"
      ]
     },
     "metadata": {
      "needs_background": "light"
     },
     "output_type": "display_data"
    }
   ],
   "source": [
    "# Distridution de la variable a predire\n",
    "df[['SiteEnergyUse(kBtu)','TotalGHGEmissions']].hist(figsize=(14,4),bins=50)"
   ]
  },
  {
   "cell_type": "raw",
   "id": "daeff7e4",
   "metadata": {},
   "source": [
    "OBSERVATION: Chaque variable présente un Skew à droite: utilisation d'une transformation logarithmique  justifiée.\n",
    "\n",
    "Chaque graphiques révèle des outliers: nous allons les supprimer."
   ]
  },
  {
   "cell_type": "markdown",
   "id": "0e8499f7",
   "metadata": {},
   "source": [
    "### Suppression des outliers  par observation du graphique ci-dessus"
   ]
  },
  {
   "cell_type": "code",
   "execution_count": 187,
   "id": "147bfa3f",
   "metadata": {},
   "outputs": [],
   "source": [
    "#Pour la variable'SiteEnergyUse(kBtu)'\n",
    "index_a_supprimer=df[df['SiteEnergyUse(kBtu)']>=(0.5*10**8)].index\n",
    "df.drop(index_a_supprimer,inplace=True)"
   ]
  },
  {
   "cell_type": "code",
   "execution_count": 188,
   "id": "c11eb001",
   "metadata": {},
   "outputs": [],
   "source": [
    "#Pour la variable'SiteEnergyUse(kBtu)'\n",
    "index_a_supprimer2=df[df['TotalGHGEmissions']>=(1000)].index\n",
    "df.drop(index_a_supprimer2,inplace=True)"
   ]
  },
  {
   "cell_type": "code",
   "execution_count": 189,
   "id": "1afebe75",
   "metadata": {},
   "outputs": [
    {
     "data": {
      "text/plain": [
       "array([[<AxesSubplot:title={'center':'SiteEnergyUse(kBtu)'}>,\n",
       "        <AxesSubplot:title={'center':'TotalGHGEmissions'}>]], dtype=object)"
      ]
     },
     "execution_count": 189,
     "metadata": {},
     "output_type": "execute_result"
    },
    {
     "data": {
      "image/png": "[encoded data removed]",
      "text/plain": [
       "<Figure size 1008x288 with 2 Axes>"
      ]
     },
     "metadata": {
      "needs_background": "light"
     },
     "output_type": "display_data"
    }
   ],
   "source": [
    "# Distridution des variables a predire  après suppression des outliers\n",
    "df[['SiteEnergyUse(kBtu)','TotalGHGEmissions']].hist(figsize=(14,4),bins=50)"
   ]
  },
  {
   "cell_type": "markdown",
   "id": "afee929f",
   "metadata": {},
   "source": [
    "### Transformation logarithmique des variables à prédire"
   ]
  },
  {
   "cell_type": "code",
   "execution_count": 190,
   "id": "f670e54d",
   "metadata": {
    "scrolled": true
   },
   "outputs": [],
   "source": [
    "# Transformation logarithmique des variables à prédire\n",
    "df['SiteEnergyUse(kBtu)_log'] = np.log(df['SiteEnergyUse(kBtu)']+1)\n",
    "df['TotalGHGEmissions_log'] = np.log(df['TotalGHGEmissions']+1)"
   ]
  },
  {
   "cell_type": "code",
   "execution_count": 191,
   "id": "7ee2a28b",
   "metadata": {},
   "outputs": [
    {
     "data": {
      "text/plain": [
       "array([[<AxesSubplot:title={'center':'SiteEnergyUse(kBtu)_log'}>,\n",
       "        <AxesSubplot:title={'center':'TotalGHGEmissions_log'}>]],\n",
       "      dtype=object)"
      ]
     },
     "execution_count": 191,
     "metadata": {},
     "output_type": "execute_result"
    },
    {
     "data": {
      "image/png": "[encoded data removed]",
      "text/plain": [
       "<Figure size 1008x288 with 2 Axes>"
      ]
     },
     "metadata": {
      "needs_background": "light"
     },
     "output_type": "display_data"
    }
   ],
   "source": [
    "df[['SiteEnergyUse(kBtu)_log','TotalGHGEmissions_log']].hist(figsize=(14,4),bins=100)"
   ]
  },
  {
   "cell_type": "raw",
   "id": "86639b4a",
   "metadata": {},
   "source": [
    "# Nous obtenons des distributions Normales des variables à prédire."
   ]
  },
  {
   "cell_type": "markdown",
   "id": "f25d932f",
   "metadata": {},
   "source": [
    "# Prediction Consommation d' Energie:\n",
    "       Sans les variables 'ENERGYSTARScore', 'TotalGHGEmissions**"
   ]
  },
  {
   "cell_type": "code",
   "execution_count": 192,
   "id": "d5f674c7",
   "metadata": {},
   "outputs": [
    {
     "data": {
      "text/plain": [
       "Index(['GHGEmissionsIntensity(kgCO2e/ft2)', 'NumberofBuildings', 'YearBuilt',\n",
       "       'PropertyGFATotal', 'Electricity(kBtu)_Prc', 'NaturalGas(kBtu)_Prc',\n",
       "       'SteamUse(kBtu)_Prc', 'ENERGYSTARScore', 'TotalGHGEmissions',\n",
       "       'SiteEnergyUse(kBtu)', 'CouncilDistrictCode_1', 'CouncilDistrictCode_2',\n",
       "       'CouncilDistrictCode_3', 'CouncilDistrictCode_4',\n",
       "       'CouncilDistrictCode_5', 'CouncilDistrictCode_6',\n",
       "       'CouncilDistrictCode_7', 'SiteEnergyUse(kBtu)_log',\n",
       "       'TotalGHGEmissions_log'],\n",
       "      dtype='object')"
      ]
     },
     "execution_count": 192,
     "metadata": {},
     "output_type": "execute_result"
    }
   ],
   "source": [
    "df.columns"
   ]
  },
  {
   "cell_type": "code",
   "execution_count": 193,
   "id": "a352e27f",
   "metadata": {},
   "outputs": [],
   "source": [
    "# Données à utilisées pour la prediction de consommation d'énergie\n",
    "df_new= df.drop(['GHGEmissionsIntensity(kgCO2e/ft2)','ENERGYSTARScore','TotalGHGEmissions','SiteEnergyUse(kBtu)','TotalGHGEmissions_log','SiteEnergyUse(kBtu)_log'],axis=1) \n",
    "X=df_new.values\n",
    "y = df['SiteEnergyUse(kBtu)_log'].values"
   ]
  },
  {
   "cell_type": "code",
   "execution_count": 194,
   "id": "89e9ab0d",
   "metadata": {},
   "outputs": [],
   "source": [
    "# Fractionnement\n",
    "X_train, X_test, y_train, y_test = train_test_split(X, y,test_size=0.30, random_state=42,shuffle=True)"
   ]
  },
  {
   "cell_type": "code",
   "execution_count": null,
   "id": "8ecb2066",
   "metadata": {},
   "outputs": [],
   "source": []
  },
  {
   "cell_type": "code",
   "execution_count": 195,
   "id": "3169f84a",
   "metadata": {},
   "outputs": [
    {
     "name": "stdout",
     "output_type": "stream",
     "text": [
      "(1317, 13) (565, 13) (1317,) (565,)\n"
     ]
    }
   ],
   "source": [
    "# Dimension des fractionnements\n",
    "print(X_train.shape, X_test.shape, y_train.shape, y_test.shape)"
   ]
  },
  {
   "cell_type": "code",
   "execution_count": null,
   "id": "c3be2c38",
   "metadata": {},
   "outputs": [],
   "source": []
  },
  {
   "cell_type": "code",
   "execution_count": 196,
   "id": "15e5122f",
   "metadata": {},
   "outputs": [],
   "source": [
    "#Standardisation\n",
    "scaler = StandardScaler().fit(X_train)\n",
    "X_train_scaled = scaler.transform(X_train)\n",
    "X_test_scaled = scaler.transform(X_test)"
   ]
  },
  {
   "cell_type": "code",
   "execution_count": 197,
   "id": "308bbe25",
   "metadata": {},
   "outputs": [
    {
     "data": {
      "text/html": [
       "<div>\n",
       "<style scoped>\n",
       "    .dataframe tbody tr th:only-of-type {\n",
       "        vertical-align: middle;\n",
       "    }\n",
       "\n",
       "    .dataframe tbody tr th {\n",
       "        vertical-align: top;\n",
       "    }\n",
       "\n",
       "    .dataframe thead th {\n",
       "        text-align: right;\n",
       "    }\n",
       "</style>\n",
       "<table border=\"1\" class=\"dataframe\">\n",
       "  <thead>\n",
       "    <tr style=\"text-align: right;\">\n",
       "      <th></th>\n",
       "      <th>0</th>\n",
       "      <th>1</th>\n",
       "      <th>2</th>\n",
       "      <th>3</th>\n",
       "      <th>4</th>\n",
       "      <th>5</th>\n",
       "      <th>6</th>\n",
       "      <th>7</th>\n",
       "      <th>8</th>\n",
       "      <th>9</th>\n",
       "      <th>10</th>\n",
       "      <th>11</th>\n",
       "      <th>12</th>\n",
       "    </tr>\n",
       "  </thead>\n",
       "  <tbody>\n",
       "    <tr>\n",
       "      <th>count</th>\n",
       "      <td>1.317000e+03</td>\n",
       "      <td>1.317000e+03</td>\n",
       "      <td>1.317000e+03</td>\n",
       "      <td>1.317000e+03</td>\n",
       "      <td>1.317000e+03</td>\n",
       "      <td>1.317000e+03</td>\n",
       "      <td>1.317000e+03</td>\n",
       "      <td>1.317000e+03</td>\n",
       "      <td>1.317000e+03</td>\n",
       "      <td>1.317000e+03</td>\n",
       "      <td>1.317000e+03</td>\n",
       "      <td>1.317000e+03</td>\n",
       "      <td>1.317000e+03</td>\n",
       "    </tr>\n",
       "    <tr>\n",
       "      <th>mean</th>\n",
       "      <td>-5.678618e-16</td>\n",
       "      <td>6.293582e-16</td>\n",
       "      <td>7.260285e-17</td>\n",
       "      <td>3.199668e-15</td>\n",
       "      <td>-1.402068e-15</td>\n",
       "      <td>2.538676e-16</td>\n",
       "      <td>1.934671e-16</td>\n",
       "      <td>-6.710232e-17</td>\n",
       "      <td>8.337210e-17</td>\n",
       "      <td>1.483669e-17</td>\n",
       "      <td>-1.718865e-16</td>\n",
       "      <td>1.011593e-18</td>\n",
       "      <td>-3.604642e-16</td>\n",
       "    </tr>\n",
       "    <tr>\n",
       "      <th>std</th>\n",
       "      <td>1.000380e+00</td>\n",
       "      <td>1.000380e+00</td>\n",
       "      <td>1.000380e+00</td>\n",
       "      <td>1.000380e+00</td>\n",
       "      <td>1.000380e+00</td>\n",
       "      <td>1.000380e+00</td>\n",
       "      <td>1.000380e+00</td>\n",
       "      <td>1.000380e+00</td>\n",
       "      <td>1.000380e+00</td>\n",
       "      <td>1.000380e+00</td>\n",
       "      <td>1.000380e+00</td>\n",
       "      <td>1.000380e+00</td>\n",
       "      <td>1.000380e+00</td>\n",
       "    </tr>\n",
       "    <tr>\n",
       "      <th>min</th>\n",
       "      <td>-8.058578e+00</td>\n",
       "      <td>-1.995838e+00</td>\n",
       "      <td>-5.633927e-01</td>\n",
       "      <td>-2.784239e+00</td>\n",
       "      <td>-9.507955e-01</td>\n",
       "      <td>-2.173160e-01</td>\n",
       "      <td>-2.610106e-01</td>\n",
       "      <td>-5.700436e-01</td>\n",
       "      <td>-3.476364e-01</td>\n",
       "      <td>-3.407370e-01</td>\n",
       "      <td>-2.988813e-01</td>\n",
       "      <td>-2.692129e-01</td>\n",
       "      <td>-7.010751e-01</td>\n",
       "    </tr>\n",
       "    <tr>\n",
       "      <th>25%</th>\n",
       "      <td>8.658487e-02</td>\n",
       "      <td>-7.852293e-01</td>\n",
       "      <td>-4.783421e-01</td>\n",
       "      <td>-7.980261e-01</td>\n",
       "      <td>-9.507955e-01</td>\n",
       "      <td>-2.173160e-01</td>\n",
       "      <td>-2.610106e-01</td>\n",
       "      <td>-5.700436e-01</td>\n",
       "      <td>-3.476364e-01</td>\n",
       "      <td>-3.407370e-01</td>\n",
       "      <td>-2.988813e-01</td>\n",
       "      <td>-2.692129e-01</td>\n",
       "      <td>-7.010751e-01</td>\n",
       "    </tr>\n",
       "    <tr>\n",
       "      <th>50%</th>\n",
       "      <td>8.658487e-02</td>\n",
       "      <td>1.386567e-01</td>\n",
       "      <td>-3.576532e-01</td>\n",
       "      <td>1.964738e-01</td>\n",
       "      <td>-3.262308e-01</td>\n",
       "      <td>-2.173160e-01</td>\n",
       "      <td>-2.610106e-01</td>\n",
       "      <td>-5.700436e-01</td>\n",
       "      <td>-3.476364e-01</td>\n",
       "      <td>-3.407370e-01</td>\n",
       "      <td>-2.988813e-01</td>\n",
       "      <td>-2.692129e-01</td>\n",
       "      <td>-7.010751e-01</td>\n",
       "    </tr>\n",
       "    <tr>\n",
       "      <th>75%</th>\n",
       "      <td>8.658487e-02</td>\n",
       "      <td>7.758194e-01</td>\n",
       "      <td>1.133325e-02</td>\n",
       "      <td>1.016301e+00</td>\n",
       "      <td>7.902635e-01</td>\n",
       "      <td>-2.173160e-01</td>\n",
       "      <td>-2.610106e-01</td>\n",
       "      <td>-5.700436e-01</td>\n",
       "      <td>-3.476364e-01</td>\n",
       "      <td>-3.407370e-01</td>\n",
       "      <td>-2.988813e-01</td>\n",
       "      <td>-2.692129e-01</td>\n",
       "      <td>1.426381e+00</td>\n",
       "    </tr>\n",
       "    <tr>\n",
       "      <th>max</th>\n",
       "      <td>8.231747e+00</td>\n",
       "      <td>1.667847e+00</td>\n",
       "      <td>8.925485e+00</td>\n",
       "      <td>1.016301e+00</td>\n",
       "      <td>2.872980e+00</td>\n",
       "      <td>7.949916e+00</td>\n",
       "      <td>3.831262e+00</td>\n",
       "      <td>1.754252e+00</td>\n",
       "      <td>2.876569e+00</td>\n",
       "      <td>2.934815e+00</td>\n",
       "      <td>3.345810e+00</td>\n",
       "      <td>3.714533e+00</td>\n",
       "      <td>1.426381e+00</td>\n",
       "    </tr>\n",
       "  </tbody>\n",
       "</table>\n",
       "</div>"
      ],
      "text/plain": [
       "                 0             1             2             3             4   \\\n",
       "count  1.317000e+03  1.317000e+03  1.317000e+03  1.317000e+03  1.317000e+03   \n",
       "mean  -5.678618e-16  6.293582e-16  7.260285e-17  3.199668e-15 -1.402068e-15   \n",
       "std    1.000380e+00  1.000380e+00  1.000380e+00  1.000380e+00  1.000380e+00   \n",
       "min   -8.058578e+00 -1.995838e+00 -5.633927e-01 -2.784239e+00 -9.507955e-01   \n",
       "25%    8.658487e-02 -7.852293e-01 -4.783421e-01 -7.980261e-01 -9.507955e-01   \n",
       "50%    8.658487e-02  1.386567e-01 -3.576532e-01  1.964738e-01 -3.262308e-01   \n",
       "75%    8.658487e-02  7.758194e-01  1.133325e-02  1.016301e+00  7.902635e-01   \n",
       "max    8.231747e+00  1.667847e+00  8.925485e+00  1.016301e+00  2.872980e+00   \n",
       "\n",
       "                 5             6             7             8             9   \\\n",
       "count  1.317000e+03  1.317000e+03  1.317000e+03  1.317000e+03  1.317000e+03   \n",
       "mean   2.538676e-16  1.934671e-16 -6.710232e-17  8.337210e-17  1.483669e-17   \n",
       "std    1.000380e+00  1.000380e+00  1.000380e+00  1.000380e+00  1.000380e+00   \n",
       "min   -2.173160e-01 -2.610106e-01 -5.700436e-01 -3.476364e-01 -3.407370e-01   \n",
       "25%   -2.173160e-01 -2.610106e-01 -5.700436e-01 -3.476364e-01 -3.407370e-01   \n",
       "50%   -2.173160e-01 -2.610106e-01 -5.700436e-01 -3.476364e-01 -3.407370e-01   \n",
       "75%   -2.173160e-01 -2.610106e-01 -5.700436e-01 -3.476364e-01 -3.407370e-01   \n",
       "max    7.949916e+00  3.831262e+00  1.754252e+00  2.876569e+00  2.934815e+00   \n",
       "\n",
       "                 10            11            12  \n",
       "count  1.317000e+03  1.317000e+03  1.317000e+03  \n",
       "mean  -1.718865e-16  1.011593e-18 -3.604642e-16  \n",
       "std    1.000380e+00  1.000380e+00  1.000380e+00  \n",
       "min   -2.988813e-01 -2.692129e-01 -7.010751e-01  \n",
       "25%   -2.988813e-01 -2.692129e-01 -7.010751e-01  \n",
       "50%   -2.988813e-01 -2.692129e-01 -7.010751e-01  \n",
       "75%   -2.988813e-01 -2.692129e-01  1.426381e+00  \n",
       "max    3.345810e+00  3.714533e+00  1.426381e+00  "
      ]
     },
     "execution_count": 197,
     "metadata": {},
     "output_type": "execute_result"
    }
   ],
   "source": [
    "r=pd.DataFrame(X_train_scaled)\n",
    "r.describe()"
   ]
  },
  {
   "cell_type": "markdown",
   "id": "b19986a1",
   "metadata": {},
   "source": [
    "### Modelisation avec l'algorithme de regression "
   ]
  },
  {
   "cell_type": "code",
   "execution_count": 198,
   "id": "16cf3e29",
   "metadata": {},
   "outputs": [],
   "source": [
    "# Instanciation du modele et détermination des paramètres\n",
    "reg = LinearRegression()\n",
    "reg.fit(X_train_scaled, y_train)\n",
    "\n",
    "#Prediction\n",
    "y_pred = reg.predict(X_test_scaled)"
   ]
  },
  {
   "cell_type": "markdown",
   "id": "de46896c",
   "metadata": {},
   "source": [
    "#### Etude avec log"
   ]
  },
  {
   "cell_type": "code",
   "execution_count": 199,
   "id": "3612fe3c",
   "metadata": {},
   "outputs": [
    {
     "data": {
      "text/plain": [
       "Text(0, 0.5, 'Y_pred')"
      ]
     },
     "execution_count": 199,
     "metadata": {},
     "output_type": "execute_result"
    },
    {
     "data": {
      "image/png": "[encoded data removed]",
      "text/plain": [
       "<Figure size 432x288 with 1 Axes>"
      ]
     },
     "metadata": {
      "needs_background": "light"
     },
     "output_type": "display_data"
    }
   ],
   "source": [
    "\n",
    "# Ploting(y_test, prediction) avec transformation logarithmique de la variable à expliquer.\n",
    "plt.scatter(y_test,y_pred,marker=\"+\")\n",
    "plt.xlabel('Y_test')\n",
    "plt.ylabel('Y_pred')"
   ]
  },
  {
   "cell_type": "raw",
   "id": "b2afed15",
   "metadata": {},
   "source": [
    " On remarque une difference \n"
   ]
  },
  {
   "cell_type": "code",
   "execution_count": 200,
   "id": "bdeca317",
   "metadata": {},
   "outputs": [
    {
     "name": "stdout",
     "output_type": "stream",
     "text": [
      "MAE: 0.6986204001492061\n",
      "MSE: 0.7833585430657743\n",
      "RMSE: 0.8850754448439829\n",
      "R2 Score: 0.42288365858967103\n"
     ]
    }
   ],
   "source": [
    "# Evaluation de la Performance du modele par des métriques classiques\n",
    "\n",
    "print('MAE:', metrics.mean_absolute_error(y_test, y_pred))\n",
    "print('MSE:', metrics.mean_squared_error(y_test, y_pred))\n",
    "print('RMSE:', np.sqrt(metrics.mean_squared_error(y_test, y_pred)))\n",
    "print('R2 Score:', metrics.r2_score(y_test,y_pred))"
   ]
  },
  {
   "cell_type": "markdown",
   "id": "7833d47c",
   "metadata": {},
   "source": [
    "**Coefficients de la regression linéaire**"
   ]
  },
  {
   "cell_type": "code",
   "execution_count": 201,
   "id": "f790a0d8",
   "metadata": {},
   "outputs": [
    {
     "data": {
      "text/html": [
       "<div>\n",
       "<style scoped>\n",
       "    .dataframe tbody tr th:only-of-type {\n",
       "        vertical-align: middle;\n",
       "    }\n",
       "\n",
       "    .dataframe tbody tr th {\n",
       "        vertical-align: top;\n",
       "    }\n",
       "\n",
       "    .dataframe thead th {\n",
       "        text-align: right;\n",
       "    }\n",
       "</style>\n",
       "<table border=\"1\" class=\"dataframe\">\n",
       "  <thead>\n",
       "    <tr style=\"text-align: right;\">\n",
       "      <th></th>\n",
       "      <th>Coefficients</th>\n",
       "    </tr>\n",
       "  </thead>\n",
       "  <tbody>\n",
       "    <tr>\n",
       "      <th>NumberofBuildings</th>\n",
       "      <td>-5.254255e-02</td>\n",
       "    </tr>\n",
       "    <tr>\n",
       "      <th>YearBuilt</th>\n",
       "      <td>2.056107e-01</td>\n",
       "    </tr>\n",
       "    <tr>\n",
       "      <th>PropertyGFATotal</th>\n",
       "      <td>6.528408e-01</td>\n",
       "    </tr>\n",
       "    <tr>\n",
       "      <th>Electricity(kBtu)_Prc</th>\n",
       "      <td>-3.353602e+11</td>\n",
       "    </tr>\n",
       "    <tr>\n",
       "      <th>NaturalGas(kBtu)_Prc</th>\n",
       "      <td>-3.333223e+11</td>\n",
       "    </tr>\n",
       "    <tr>\n",
       "      <th>SteamUse(kBtu)_Prc</th>\n",
       "      <td>-1.100035e+11</td>\n",
       "    </tr>\n",
       "    <tr>\n",
       "      <th>CouncilDistrictCode_1</th>\n",
       "      <td>3.334974e+11</td>\n",
       "    </tr>\n",
       "    <tr>\n",
       "      <th>CouncilDistrictCode_2</th>\n",
       "      <td>5.871725e+11</td>\n",
       "    </tr>\n",
       "    <tr>\n",
       "      <th>CouncilDistrictCode_3</th>\n",
       "      <td>4.232864e+11</td>\n",
       "    </tr>\n",
       "    <tr>\n",
       "      <th>CouncilDistrictCode_4</th>\n",
       "      <td>4.166511e+11</td>\n",
       "    </tr>\n",
       "    <tr>\n",
       "      <th>CouncilDistrictCode_5</th>\n",
       "      <td>3.744521e+11</td>\n",
       "    </tr>\n",
       "    <tr>\n",
       "      <th>CouncilDistrictCode_6</th>\n",
       "      <td>3.425827e+11</td>\n",
       "    </tr>\n",
       "    <tr>\n",
       "      <th>CouncilDistrictCode_7</th>\n",
       "      <td>6.414997e+11</td>\n",
       "    </tr>\n",
       "  </tbody>\n",
       "</table>\n",
       "</div>"
      ],
      "text/plain": [
       "                       Coefficients\n",
       "NumberofBuildings     -5.254255e-02\n",
       "YearBuilt              2.056107e-01\n",
       "PropertyGFATotal       6.528408e-01\n",
       "Electricity(kBtu)_Prc -3.353602e+11\n",
       "NaturalGas(kBtu)_Prc  -3.333223e+11\n",
       "SteamUse(kBtu)_Prc    -1.100035e+11\n",
       "CouncilDistrictCode_1  3.334974e+11\n",
       "CouncilDistrictCode_2  5.871725e+11\n",
       "CouncilDistrictCode_3  4.232864e+11\n",
       "CouncilDistrictCode_4  4.166511e+11\n",
       "CouncilDistrictCode_5  3.744521e+11\n",
       "CouncilDistrictCode_6  3.425827e+11\n",
       "CouncilDistrictCode_7  6.414997e+11"
      ]
     },
     "execution_count": 201,
     "metadata": {},
     "output_type": "execute_result"
    }
   ],
   "source": [
    "# Affichage des coefficients\n",
    "Coefficient=pd.DataFrame(reg.coef_,df_new.columns)\n",
    "Coefficient.columns=['Coefficients']\n",
    "Coefficient \n"
   ]
  },
  {
   "cell_type": "markdown",
   "id": "9a342cdd",
   "metadata": {},
   "source": [
    "**OBSERVATION:**\n",
    "Nous avons l'équation suivante:\n",
    "    \n",
    "**SiteEnergyUse(kBtu)_log= -5.254255e-02 x NumberofBuildings + 2.056107e-01  x YearBuilt +...+ 6.414997e+11 x CouncilDistrictCode_7**\n",
    "   \n",
    "**INTERPRETATION:** exemple la variation d'une unité de **YearBuilt** entraîne la variation de consommation d énergie de **2.056107e-01**; On peut utiliser le même raisonnement pour tous les coefficients. "
   ]
  },
  {
   "cell_type": "markdown",
   "id": "f93df638",
   "metadata": {},
   "source": [
    "#### Etude sans log"
   ]
  },
  {
   "cell_type": "code",
   "execution_count": 202,
   "id": "05a5624b",
   "metadata": {},
   "outputs": [
    {
     "data": {
      "text/plain": [
       "Text(0, 0.5, 'Y_pred')"
      ]
     },
     "execution_count": 202,
     "metadata": {},
     "output_type": "execute_result"
    },
    {
     "data": {
      "image/png": "[encoded data removed]",
      "text/plain": [
       "<Figure size 432x288 with 1 Axes>"
      ]
     },
     "metadata": {
      "needs_background": "light"
     },
     "output_type": "display_data"
    }
   ],
   "source": [
    "#Ploting(y_test, prediction) sans  logarithme\n",
    "plt.scatter(np.exp(y_test),np.exp(y_pred),marker=\"+\")\n",
    "plt.xlabel('Y_test')\n",
    "plt.ylabel('Y_pred')"
   ]
  },
  {
   "cell_type": "code",
   "execution_count": 203,
   "id": "7029cdd8",
   "metadata": {},
   "outputs": [
    {
     "name": "stdout",
     "output_type": "stream",
     "text": [
      "MAE: 3701636.757633648\n",
      "MSE: 191345874482389.6\n",
      "RMSE: 13832782.600850401\n",
      "R2 Score: -3.450526349999116\n"
     ]
    }
   ],
   "source": [
    "# Evaluation de la Performance du modele par des métriques classiques(sans log)\n",
    "y_test_sans_log=np.exp(y_test)\n",
    "y_pred_sans_log=np.exp(y_pred)\n",
    "print('MAE:', metrics.mean_absolute_error(y_test_sans_log, y_pred_sans_log))\n",
    "print('MSE:', metrics.mean_squared_error(y_test_sans_log, y_pred_sans_log))\n",
    "print('RMSE:', np.sqrt(metrics.mean_squared_error(y_test_sans_log, y_pred_sans_log)))\n",
    "print('R2 Score:', metrics.r2_score(y_test_sans_log,y_pred_sans_log))"
   ]
  },
  {
   "cell_type": "code",
   "execution_count": 204,
   "id": "d0fb6cfa",
   "metadata": {},
   "outputs": [
    {
     "data": {
      "text/plain": [
       "5272367.961092178"
      ]
     },
     "execution_count": 204,
     "metadata": {},
     "output_type": "execute_result"
    }
   ],
   "source": [
    "np.mean(y_test_sans_log)"
   ]
  },
  {
   "cell_type": "code",
   "execution_count": 205,
   "id": "0b6c9191",
   "metadata": {},
   "outputs": [
    {
     "data": {
      "text/plain": [
       "6556980.063253646"
      ]
     },
     "execution_count": 205,
     "metadata": {},
     "output_type": "execute_result"
    }
   ],
   "source": [
    "np.std(y_test_sans_log)"
   ]
  },
  {
   "cell_type": "markdown",
   "id": "7efe07ad",
   "metadata": {},
   "source": [
    "#### Cross-validation"
   ]
  },
  {
   "cell_type": "code",
   "execution_count": 206,
   "id": "cabc6966",
   "metadata": {},
   "outputs": [
    {
     "data": {
      "text/plain": [
       "0.7887341640458558"
      ]
     },
     "execution_count": 206,
     "metadata": {},
     "output_type": "execute_result"
    }
   ],
   "source": [
    "# Evaluation de la Performance du modele par cross-validation\n",
    "scoring=\"neg_mean_squared_error\"\n",
    "model=LinearRegression()\n",
    "kfold =KFold(n_splits=5, random_state=None)\n",
    "cv_resultats = -cross_val_score(model,X_train_scaled,y_train, cv=kfold,scoring=scoring)\n",
    "\n",
    "cv_resultats.mean()"
   ]
  },
  {
   "cell_type": "markdown",
   "id": "0caa43fe",
   "metadata": {},
   "source": [
    "#### Score sur les données de test"
   ]
  },
  {
   "cell_type": "code",
   "execution_count": 207,
   "id": "6febb96d",
   "metadata": {},
   "outputs": [
    {
     "data": {
      "text/plain": [
       "0.8083143273020867"
      ]
     },
     "execution_count": 207,
     "metadata": {},
     "output_type": "execute_result"
    }
   ],
   "source": [
    "cv_resultats = -cross_val_score(model,X_test_scaled,y_test, cv=kfold,scoring=scoring)\n",
    "\n",
    "cv_resultats.mean()"
   ]
  },
  {
   "cell_type": "markdown",
   "id": "cf8822ec",
   "metadata": {},
   "source": [
    "### Modelisation avec des algorithmes de regression lineaire"
   ]
  },
  {
   "cell_type": "code",
   "execution_count": 208,
   "id": "7f3a655f",
   "metadata": {},
   "outputs": [],
   "source": [
    "# Dictionnaire des Algorithmes\n",
    "\n",
    "models={}\n",
    "models={\n",
    "    ('LR',LinearRegression()),\n",
    "    ('RF', RandomForestRegressor()),\n",
    "    ('KNN', KNeighborsRegressor()),\n",
    "    ('RIDGE', Ridge()),\n",
    "    ('LASSO', Lasso()),\n",
    "    ('EN', ElasticNet()),\n",
    "    ('SVR',SVR()),\n",
    "       }\n",
    "\n",
    "# Métrique  utilisée\n",
    "scoring='neg_mean_squared_error'"
   ]
  },
  {
   "cell_type": "markdown",
   "id": "3be288e1",
   "metadata": {},
   "source": [
    "#### Etude avec log"
   ]
  },
  {
   "cell_type": "code",
   "execution_count": 209,
   "id": "0ed38a9d",
   "metadata": {},
   "outputs": [
    {
     "name": "stdout",
     "output_type": "stream",
     "text": [
      "KNN: 0.539929, [0.106758]\n",
      "RF: 0.320135, [0.074206]\n",
      "RIDGE: 0.775220, [0.114844]\n",
      "SVR: 0.547297, [0.089754]\n",
      "LASSO: 0.829818, [0.114615]\n",
      "LR: 0.775300, [0.114746]\n",
      "EN: 0.828943, [0.114731]\n"
     ]
    }
   ],
   "source": [
    "# Evaluation de chaque modele avec transformation logarithmique de la cible.\n",
    "resultats = []\n",
    "names = []\n",
    "for name, model in models:\n",
    "    kfold = KFold(n_splits=10, random_state=None)\n",
    "    cv_resultats = cross_val_score(model, X_train, y_train, cv=kfold, scoring=scoring)\n",
    "    resultats.append(cv_resultats)\n",
    "    names.append(name)\n",
    "    print(\"%s: %f, [%f]\" % (name, -cv_resultats.mean(), cv_resultats.std()))"
   ]
  },
  {
   "cell_type": "raw",
   "id": "062ad1f2",
   "metadata": {},
   "source": [
    "Meilleure performance pour le RandomForestRegressor.\n",
    "Nous allons optimiser les hyperparametres de ce dernier.\n"
   ]
  },
  {
   "cell_type": "markdown",
   "id": "553943e4",
   "metadata": {},
   "source": [
    "#### Etude sans log"
   ]
  },
  {
   "cell_type": "code",
   "execution_count": 210,
   "id": "1ef9a249",
   "metadata": {},
   "outputs": [
    {
     "name": "stdout",
     "output_type": "stream",
     "text": [
      "KNN: 0.539929, [0.106758]\n",
      "RF: 0.318465, [0.070280]\n",
      "RIDGE: 0.775220, [0.114844]\n",
      "SVR: 0.547297, [0.089754]\n",
      "LASSO: 0.829818, [0.114615]\n",
      "LR: 0.775300, [0.114746]\n",
      "EN: 0.828943, [0.114731]\n"
     ]
    }
   ],
   "source": [
    "# Evaluation de chaque modele sans transformation logarithmique de la cible.\n",
    "y_train_sans_log=np.exp(y_train)\n",
    "\n",
    "resultats = []\n",
    "names = []\n",
    "for name, model in models:\n",
    "    kfold = KFold(n_splits=10, random_state=None)\n",
    "    cv_resultats = cross_val_score(model, X_train, y_train, cv=kfold, scoring=scoring)\n",
    "    resultats.append(cv_resultats)\n",
    "    names.append(name)\n",
    "    print(\"%s: %f, [%f]\" % (name, -cv_resultats.mean(), cv_resultats.std()))"
   ]
  },
  {
   "cell_type": "code",
   "execution_count": null,
   "id": "8caf411d",
   "metadata": {},
   "outputs": [],
   "source": []
  },
  {
   "cell_type": "markdown",
   "id": "ff79aed7",
   "metadata": {},
   "source": [
    "### Tuning"
   ]
  },
  {
   "cell_type": "code",
   "execution_count": 211,
   "id": "285a3529",
   "metadata": {},
   "outputs": [],
   "source": [
    "# Tuning  RandomForestRegressor\n",
    "param_grid = [\n",
    "                {'n_estimators': [200, 300,500], \n",
    "                'max_features': [4, 8,12]}\n",
    "             ]\n",
    "scoring='neg_mean_squared_error'"
   ]
  },
  {
   "cell_type": "markdown",
   "id": "0f579915",
   "metadata": {},
   "source": [
    "#### Tuning Avec log"
   ]
  },
  {
   "cell_type": "code",
   "execution_count": 212,
   "id": "80cc03dc",
   "metadata": {},
   "outputs": [
    {
     "name": "stdout",
     "output_type": "stream",
     "text": [
      "-0.3093270483536705\n",
      "RandomForestRegressor(max_features=8, n_estimators=500)\n"
     ]
    }
   ],
   "source": [
    "RFreg=RandomForestRegressor()\n",
    "grid_search = GridSearchCV(RFreg, param_grid, cv=10,scoring=scoring,return_train_score=True)\n",
    "grid_search.fit(X_train, y_train)\n",
    "print(grid_search.best_score_)\n",
    "print(grid_search.best_estimator_)"
   ]
  },
  {
   "cell_type": "markdown",
   "id": "2611cc4b",
   "metadata": {},
   "source": [
    "#### Tuning Sans log"
   ]
  },
  {
   "cell_type": "code",
   "execution_count": 213,
   "id": "c830ab40",
   "metadata": {},
   "outputs": [
    {
     "name": "stdout",
     "output_type": "stream",
     "text": [
      "-10798669840950.254\n",
      "RandomForestRegressor(max_features=8, n_estimators=300)\n"
     ]
    }
   ],
   "source": [
    "y_train_sans_log=np.exp(y_train)\n",
    "RFreg=RandomForestRegressor()\n",
    "grid_search = GridSearchCV(RFreg, param_grid, cv=10,scoring=scoring,return_train_score=True)\n",
    "grid_search.fit(X_train, y_train_sans_log)\n",
    "print(grid_search.best_score_)\n",
    "print(grid_search.best_estimator_)"
   ]
  },
  {
   "cell_type": "markdown",
   "id": "f71e443d",
   "metadata": {},
   "source": [
    "### Importance des variables"
   ]
  },
  {
   "cell_type": "code",
   "execution_count": 214,
   "id": "f9ef6d50",
   "metadata": {},
   "outputs": [
    {
     "data": {
      "text/html": [
       "<div>\n",
       "<style scoped>\n",
       "    .dataframe tbody tr th:only-of-type {\n",
       "        vertical-align: middle;\n",
       "    }\n",
       "\n",
       "    .dataframe tbody tr th {\n",
       "        vertical-align: top;\n",
       "    }\n",
       "\n",
       "    .dataframe thead th {\n",
       "        text-align: right;\n",
       "    }\n",
       "</style>\n",
       "<table border=\"1\" class=\"dataframe\">\n",
       "  <thead>\n",
       "    <tr style=\"text-align: right;\">\n",
       "      <th></th>\n",
       "      <th>feature</th>\n",
       "      <th>importance</th>\n",
       "    </tr>\n",
       "  </thead>\n",
       "  <tbody>\n",
       "    <tr>\n",
       "      <th>2</th>\n",
       "      <td>PropertyGFATotal</td>\n",
       "      <td>0.649721</td>\n",
       "    </tr>\n",
       "    <tr>\n",
       "      <th>1</th>\n",
       "      <td>YearBuilt</td>\n",
       "      <td>0.134898</td>\n",
       "    </tr>\n",
       "    <tr>\n",
       "      <th>3</th>\n",
       "      <td>Electricity(kBtu)_Prc</td>\n",
       "      <td>0.065158</td>\n",
       "    </tr>\n",
       "    <tr>\n",
       "      <th>4</th>\n",
       "      <td>NaturalGas(kBtu)_Prc</td>\n",
       "      <td>0.051656</td>\n",
       "    </tr>\n",
       "    <tr>\n",
       "      <th>12</th>\n",
       "      <td>CouncilDistrictCode_7</td>\n",
       "      <td>0.038018</td>\n",
       "    </tr>\n",
       "    <tr>\n",
       "      <th>7</th>\n",
       "      <td>CouncilDistrictCode_2</td>\n",
       "      <td>0.016986</td>\n",
       "    </tr>\n",
       "    <tr>\n",
       "      <th>9</th>\n",
       "      <td>CouncilDistrictCode_4</td>\n",
       "      <td>0.008821</td>\n",
       "    </tr>\n",
       "    <tr>\n",
       "      <th>6</th>\n",
       "      <td>CouncilDistrictCode_1</td>\n",
       "      <td>0.008173</td>\n",
       "    </tr>\n",
       "    <tr>\n",
       "      <th>11</th>\n",
       "      <td>CouncilDistrictCode_6</td>\n",
       "      <td>0.007367</td>\n",
       "    </tr>\n",
       "    <tr>\n",
       "      <th>8</th>\n",
       "      <td>CouncilDistrictCode_3</td>\n",
       "      <td>0.007298</td>\n",
       "    </tr>\n",
       "    <tr>\n",
       "      <th>10</th>\n",
       "      <td>CouncilDistrictCode_5</td>\n",
       "      <td>0.006273</td>\n",
       "    </tr>\n",
       "    <tr>\n",
       "      <th>5</th>\n",
       "      <td>SteamUse(kBtu)_Prc</td>\n",
       "      <td>0.004952</td>\n",
       "    </tr>\n",
       "    <tr>\n",
       "      <th>0</th>\n",
       "      <td>NumberofBuildings</td>\n",
       "      <td>0.000678</td>\n",
       "    </tr>\n",
       "  </tbody>\n",
       "</table>\n",
       "</div>"
      ],
      "text/plain": [
       "                  feature  importance\n",
       "2        PropertyGFATotal    0.649721\n",
       "1               YearBuilt    0.134898\n",
       "3   Electricity(kBtu)_Prc    0.065158\n",
       "4    NaturalGas(kBtu)_Prc    0.051656\n",
       "12  CouncilDistrictCode_7    0.038018\n",
       "7   CouncilDistrictCode_2    0.016986\n",
       "9   CouncilDistrictCode_4    0.008821\n",
       "6   CouncilDistrictCode_1    0.008173\n",
       "11  CouncilDistrictCode_6    0.007367\n",
       "8   CouncilDistrictCode_3    0.007298\n",
       "10  CouncilDistrictCode_5    0.006273\n",
       "5      SteamUse(kBtu)_Prc    0.004952\n",
       "0       NumberofBuildings    0.000678"
      ]
     },
     "execution_count": 214,
     "metadata": {},
     "output_type": "execute_result"
    }
   ],
   "source": [
    "\n",
    "RFreg = RandomForestRegressor(max_features=8,n_estimators=300, random_state=1)\n",
    "RFreg.fit(X, y)\n",
    "# compute feature importances\n",
    "df_feat_importance=pd.DataFrame({'feature':df_new.columns, 'importance':RFreg.feature_importances_})  #.sort('importance', ascending = False)\n",
    "df_feat_importance.sort_values('importance', ascending = False)"
   ]
  },
  {
   "cell_type": "markdown",
   "id": "9bcd1026",
   "metadata": {},
   "source": [
    "**Les 5 premiers features contribuent le plus à l'élaboration de la regression**"
   ]
  },
  {
   "cell_type": "markdown",
   "id": "7dfe800c",
   "metadata": {},
   "source": [
    "#### Modele avec selection de variables"
   ]
  },
  {
   "cell_type": "code",
   "execution_count": 215,
   "id": "ceeb08d6",
   "metadata": {},
   "outputs": [
    {
     "name": "stdout",
     "output_type": "stream",
     "text": [
      "-0.31280164157700846\n",
      "RandomForestRegressor(max_features=8, n_estimators=500)\n"
     ]
    }
   ],
   "source": [
    "# Tuning  RandomForestRegressor\n",
    "param_grid = [\n",
    "                {'n_estimators': [200, 300,500], \n",
    "                'max_features': [4, 8,12]}\n",
    "             ]\n",
    "scoring='neg_mean_squared_error'\n",
    "\n",
    "RFreg=RandomForestRegressor()\n",
    "grid_search = GridSearchCV(RFreg, param_grid, cv=10,scoring=scoring,return_train_score=True)\n",
    "grid_search.fit(X_train, y_train)\n",
    "print(grid_search.best_score_)\n",
    "print(grid_search.best_estimator_)"
   ]
  },
  {
   "cell_type": "markdown",
   "id": "0089aeb3",
   "metadata": {},
   "source": [
    "# Prediction Emission CO2 :\n"
   ]
  },
  {
   "cell_type": "markdown",
   "id": "b5890bad",
   "metadata": {},
   "source": [
    "## Prediction Sans ENERGYSTARScore"
   ]
  },
  {
   "cell_type": "markdown",
   "id": "466edac0",
   "metadata": {},
   "source": [
    "### Preparation des données"
   ]
  },
  {
   "cell_type": "code",
   "execution_count": 216,
   "id": "1d06e71e",
   "metadata": {},
   "outputs": [],
   "source": [
    "# Suppression \n",
    "df_new= df.drop(['GHGEmissionsIntensity(kgCO2e/ft2)','ENERGYSTARScore','TotalGHGEmissions','SiteEnergyUse(kBtu)','TotalGHGEmissions_log','SiteEnergyUse(kBtu)_log'],axis=1)  \n",
    "X=df_new.values\n",
    "y = df['TotalGHGEmissions'].values"
   ]
  },
  {
   "cell_type": "markdown",
   "id": "68767518",
   "metadata": {},
   "source": [
    "### Modelisation avec l'algorithme de regression "
   ]
  },
  {
   "cell_type": "code",
   "execution_count": null,
   "id": "a3c4c1c6",
   "metadata": {},
   "outputs": [],
   "source": []
  },
  {
   "cell_type": "code",
   "execution_count": 217,
   "id": "e12b4d1f",
   "metadata": {},
   "outputs": [
    {
     "data": {
      "text/plain": [
       "LinearRegression()"
      ]
     },
     "execution_count": 217,
     "metadata": {},
     "output_type": "execute_result"
    }
   ],
   "source": [
    "# Instanciation du modele et détermination des paramètres\n",
    "reg = LinearRegression()\n",
    "reg.fit(X_train_scaled, y_train)"
   ]
  },
  {
   "cell_type": "code",
   "execution_count": 218,
   "id": "6bc2ccb9",
   "metadata": {},
   "outputs": [],
   "source": [
    "#Prediction\n",
    "y_pred = reg.predict(X_test_scaled)"
   ]
  },
  {
   "cell_type": "markdown",
   "id": "0dcfc77d",
   "metadata": {},
   "source": [
    "#### Etude avec log"
   ]
  },
  {
   "cell_type": "code",
   "execution_count": 219,
   "id": "cb115031",
   "metadata": {},
   "outputs": [
    {
     "data": {
      "text/plain": [
       "Text(0, 0.5, 'Y_pred')"
      ]
     },
     "execution_count": 219,
     "metadata": {},
     "output_type": "execute_result"
    },
    {
     "data": {
      "image/png": "[encoded data removed]",
      "text/plain": [
       "<Figure size 432x288 with 1 Axes>"
      ]
     },
     "metadata": {
      "needs_background": "light"
     },
     "output_type": "display_data"
    }
   ],
   "source": [
    "# Ploting(y_test, prediction) avec transformation logarithmique de la variable à expliquer.\n",
    "plt.scatter(y_test,y_pred,marker=\"+\")\n",
    "plt.xlabel('Y_test')\n",
    "plt.ylabel('Y_pred')"
   ]
  },
  {
   "cell_type": "code",
   "execution_count": 220,
   "id": "a7f6d774",
   "metadata": {},
   "outputs": [
    {
     "name": "stdout",
     "output_type": "stream",
     "text": [
      "MAE: 0.6986204001492061\n",
      "MSE: 0.7833585430657743\n",
      "RMSE: 0.8850754448439829\n",
      "R2 Score: 0.42288365858967103\n"
     ]
    }
   ],
   "source": [
    "# Evaluation de la Performance du modele par des métriques classiques\n",
    "\n",
    "print('MAE:', metrics.mean_absolute_error(y_test, y_pred))\n",
    "print('MSE:', metrics.mean_squared_error(y_test, y_pred))\n",
    "print('RMSE:', np.sqrt(metrics.mean_squared_error(y_test, y_pred)))\n",
    "print('R2 Score:', metrics.r2_score(y_test,y_pred))"
   ]
  },
  {
   "cell_type": "markdown",
   "id": "fd0c2562",
   "metadata": {},
   "source": [
    "**Coefficients du modele lineaire**"
   ]
  },
  {
   "cell_type": "code",
   "execution_count": 221,
   "id": "9f30086b",
   "metadata": {},
   "outputs": [
    {
     "data": {
      "text/html": [
       "<div>\n",
       "<style scoped>\n",
       "    .dataframe tbody tr th:only-of-type {\n",
       "        vertical-align: middle;\n",
       "    }\n",
       "\n",
       "    .dataframe tbody tr th {\n",
       "        vertical-align: top;\n",
       "    }\n",
       "\n",
       "    .dataframe thead th {\n",
       "        text-align: right;\n",
       "    }\n",
       "</style>\n",
       "<table border=\"1\" class=\"dataframe\">\n",
       "  <thead>\n",
       "    <tr style=\"text-align: right;\">\n",
       "      <th></th>\n",
       "      <th>Coefficients</th>\n",
       "    </tr>\n",
       "  </thead>\n",
       "  <tbody>\n",
       "    <tr>\n",
       "      <th>NumberofBuildings</th>\n",
       "      <td>-5.254255e-02</td>\n",
       "    </tr>\n",
       "    <tr>\n",
       "      <th>YearBuilt</th>\n",
       "      <td>2.056107e-01</td>\n",
       "    </tr>\n",
       "    <tr>\n",
       "      <th>PropertyGFATotal</th>\n",
       "      <td>6.528408e-01</td>\n",
       "    </tr>\n",
       "    <tr>\n",
       "      <th>Electricity(kBtu)_Prc</th>\n",
       "      <td>-3.353602e+11</td>\n",
       "    </tr>\n",
       "    <tr>\n",
       "      <th>NaturalGas(kBtu)_Prc</th>\n",
       "      <td>-3.333223e+11</td>\n",
       "    </tr>\n",
       "    <tr>\n",
       "      <th>SteamUse(kBtu)_Prc</th>\n",
       "      <td>-1.100035e+11</td>\n",
       "    </tr>\n",
       "    <tr>\n",
       "      <th>CouncilDistrictCode_1</th>\n",
       "      <td>3.334974e+11</td>\n",
       "    </tr>\n",
       "    <tr>\n",
       "      <th>CouncilDistrictCode_2</th>\n",
       "      <td>5.871725e+11</td>\n",
       "    </tr>\n",
       "    <tr>\n",
       "      <th>CouncilDistrictCode_3</th>\n",
       "      <td>4.232864e+11</td>\n",
       "    </tr>\n",
       "    <tr>\n",
       "      <th>CouncilDistrictCode_4</th>\n",
       "      <td>4.166511e+11</td>\n",
       "    </tr>\n",
       "    <tr>\n",
       "      <th>CouncilDistrictCode_5</th>\n",
       "      <td>3.744521e+11</td>\n",
       "    </tr>\n",
       "    <tr>\n",
       "      <th>CouncilDistrictCode_6</th>\n",
       "      <td>3.425827e+11</td>\n",
       "    </tr>\n",
       "    <tr>\n",
       "      <th>CouncilDistrictCode_7</th>\n",
       "      <td>6.414997e+11</td>\n",
       "    </tr>\n",
       "  </tbody>\n",
       "</table>\n",
       "</div>"
      ],
      "text/plain": [
       "                       Coefficients\n",
       "NumberofBuildings     -5.254255e-02\n",
       "YearBuilt              2.056107e-01\n",
       "PropertyGFATotal       6.528408e-01\n",
       "Electricity(kBtu)_Prc -3.353602e+11\n",
       "NaturalGas(kBtu)_Prc  -3.333223e+11\n",
       "SteamUse(kBtu)_Prc    -1.100035e+11\n",
       "CouncilDistrictCode_1  3.334974e+11\n",
       "CouncilDistrictCode_2  5.871725e+11\n",
       "CouncilDistrictCode_3  4.232864e+11\n",
       "CouncilDistrictCode_4  4.166511e+11\n",
       "CouncilDistrictCode_5  3.744521e+11\n",
       "CouncilDistrictCode_6  3.425827e+11\n",
       "CouncilDistrictCode_7  6.414997e+11"
      ]
     },
     "execution_count": 221,
     "metadata": {},
     "output_type": "execute_result"
    }
   ],
   "source": [
    "# Affichage des coefficients\n",
    "Coefficient=pd.DataFrame(reg.coef_,df_new.columns)\n",
    "Coefficient.columns=['Coefficients']\n",
    "Coefficient "
   ]
  },
  {
   "cell_type": "markdown",
   "id": "0e065810",
   "metadata": {},
   "source": [
    "#### Etude sans log"
   ]
  },
  {
   "cell_type": "code",
   "execution_count": 222,
   "id": "30ffdf8b",
   "metadata": {},
   "outputs": [
    {
     "name": "stdout",
     "output_type": "stream",
     "text": [
      "MAE: 5272353.160851499\n",
      "MSE: 70791688341570.11\n",
      "RMSE: 8413779.670372294\n",
      "R2 Score: -0.6465485612237714\n"
     ]
    },
    {
     "data": {
      "image/png": "[encoded data removed]",
      "text/plain": [
       "<Figure size 432x288 with 1 Axes>"
      ]
     },
     "metadata": {
      "needs_background": "light"
     },
     "output_type": "display_data"
    }
   ],
   "source": [
    "#Ploting(y_test, prediction) sans  logarithme\n",
    "plt.scatter(np.exp(y_test),y_pred,marker=\"+\")\n",
    "plt.xlabel('Y_test')\n",
    "plt.ylabel('Y_pred')\n",
    "\n",
    "# Evaluation de la Performance du modele par des métriques classiques(sans log)\n",
    "y_test_sans_log=np.exp(y_test)\n",
    "\n",
    "print('MAE:', metrics.mean_absolute_error(y_test_sans_log, y_pred))\n",
    "print('MSE:', metrics.mean_squared_error(y_test_sans_log, y_pred))\n",
    "print('RMSE:', np.sqrt(metrics.mean_squared_error(y_test_sans_log, y_pred)))\n",
    "print('R2 Score:', metrics.r2_score(y_test_sans_log,y_pred))"
   ]
  },
  {
   "cell_type": "markdown",
   "id": "f97270f0",
   "metadata": {},
   "source": [
    "#### Cross-validation"
   ]
  },
  {
   "cell_type": "code",
   "execution_count": 223,
   "id": "3abca931",
   "metadata": {},
   "outputs": [
    {
     "data": {
      "text/plain": [
       "-0.7887341640458558"
      ]
     },
     "execution_count": 223,
     "metadata": {},
     "output_type": "execute_result"
    }
   ],
   "source": [
    "# Evaluation de la Performance du modele par cross-validation\n",
    "scoring=\"neg_mean_squared_error\"\n",
    "model=LinearRegression()\n",
    "kfold =KFold(n_splits=5, random_state=None)\n",
    "cv_resultats = cross_val_score(model,X_train_scaled,y_train, cv=kfold,scoring=scoring)\n",
    "\n",
    "cv_resultats.mean()"
   ]
  },
  {
   "cell_type": "raw",
   "id": "c78ed46f",
   "metadata": {},
   "source": [
    "COMPARAISON:\n",
    "\n",
    "avec log\n",
    "RMSE: 0.933734212315723\n",
    "\n",
    "Sans log\n",
    "RMSE: 19706758.281446625\n",
    "\n"
   ]
  },
  {
   "cell_type": "markdown",
   "id": "4befaead",
   "metadata": {},
   "source": [
    "### Modélisation des algorithmes de regression"
   ]
  },
  {
   "cell_type": "code",
   "execution_count": 224,
   "id": "97538996",
   "metadata": {},
   "outputs": [],
   "source": [
    "# Dictionnaire des Algorithmes\n",
    "\n",
    "models={}\n",
    "models={\n",
    "    ('LR',LinearRegression()),\n",
    "    ('RF', RandomForestRegressor()),\n",
    "    ('KNN', KNeighborsRegressor()),\n",
    "    ('RIDGE', Ridge()),\n",
    "    ('LASSO', Lasso()),\n",
    "    ('EN', ElasticNet()),\n",
    "    ('SVR',SVR()),\n",
    "       }\n",
    "\n",
    "# Métrique  utilisée\n",
    "scoring='neg_mean_squared_error'"
   ]
  },
  {
   "cell_type": "markdown",
   "id": "a19af103",
   "metadata": {},
   "source": [
    "#### Etude avec log"
   ]
  },
  {
   "cell_type": "code",
   "execution_count": 225,
   "id": "954339b3",
   "metadata": {},
   "outputs": [
    {
     "name": "stdout",
     "output_type": "stream",
     "text": [
      "RIDGE: 0.775220, [0.114844]\n",
      "SVR: 0.547297, [0.089754]\n",
      "KNN: 0.539929, [0.106758]\n",
      "LASSO: 0.829818, [0.114615]\n",
      "EN: 0.828943, [0.114731]\n",
      "RF: 0.319184, [0.068322]\n",
      "LR: 0.775300, [0.114746]\n"
     ]
    }
   ],
   "source": [
    "# Evaluation de chaque modele\n",
    "resultats = []\n",
    "names = []\n",
    "for name, model in models:\n",
    "    kfold = KFold(n_splits=10, random_state=None)\n",
    "    cv_resultats = cross_val_score(model, X_train, y_train, cv=kfold, scoring=scoring)\n",
    "    resultats.append(cv_resultats)\n",
    "    names.append(name)\n",
    "    print(\"%s: %f, [%f]\" % (name, -cv_resultats.mean(), cv_resultats.std()))"
   ]
  },
  {
   "cell_type": "raw",
   "id": "723ab06f",
   "metadata": {},
   "source": [
    "Meilleure performance pour le RandomForestRegressor.\n",
    "Nous allons optimiser les hyperparametres de ce dernier comme précédement."
   ]
  },
  {
   "cell_type": "markdown",
   "id": "9cd80e3c",
   "metadata": {},
   "source": [
    "#### Etude sans log"
   ]
  },
  {
   "cell_type": "code",
   "execution_count": 226,
   "id": "9614c91a",
   "metadata": {},
   "outputs": [
    {
     "name": "stdout",
     "output_type": "stream",
     "text": [
      "RIDGE: 0.775220, [0.114844]\n",
      "SVR: 0.547297, [0.089754]\n",
      "KNN: 0.539929, [0.106758]\n",
      "LASSO: 0.829818, [0.114615]\n",
      "EN: 0.828943, [0.114731]\n",
      "RF: 0.317063, [0.066410]\n",
      "LR: 0.775300, [0.114746]\n"
     ]
    }
   ],
   "source": [
    "# Evaluation de chaque modele sans transformation logarithmique de la cible.\n",
    "y_train_sans_log=np.exp(y_train)\n",
    "\n",
    "resultats = []\n",
    "names = []\n",
    "for name, model in models:\n",
    "    kfold = KFold(n_splits=10, random_state=None)\n",
    "    cv_resultats = cross_val_score(model, X_train, y_train, cv=kfold, scoring=scoring)\n",
    "    resultats.append(cv_resultats)\n",
    "    names.append(name)\n",
    "    print(\"%s: %f, [%f]\" % (name, -cv_resultats.mean(), cv_resultats.std()))"
   ]
  },
  {
   "cell_type": "markdown",
   "id": "35b28e68",
   "metadata": {},
   "source": [
    "#### Tuning"
   ]
  },
  {
   "cell_type": "code",
   "execution_count": 227,
   "id": "4781e53e",
   "metadata": {},
   "outputs": [],
   "source": [
    "# Tuning  RandomForestRegressor\n",
    "param_grid = [\n",
    "                {'n_estimators': [ 200, 300,500], \n",
    "                'max_features': [4, 8,12]}\n",
    "             ]\n",
    "scoring='neg_mean_squared_error'"
   ]
  },
  {
   "cell_type": "markdown",
   "id": "aa86927a",
   "metadata": {},
   "source": [
    "#### Tuning Avec log"
   ]
  },
  {
   "cell_type": "code",
   "execution_count": 228,
   "id": "b95dbd07",
   "metadata": {},
   "outputs": [
    {
     "name": "stdout",
     "output_type": "stream",
     "text": [
      "-0.31198562628271287\n",
      "RandomForestRegressor(max_features=8, n_estimators=300)\n"
     ]
    }
   ],
   "source": [
    "# Tuning  RandomForestRegressor\n",
    "param_grid = [\n",
    "                {'n_estimators': [ 200, 300,500], \n",
    "                'max_features': [4, 8,12]}\n",
    "             ]\n",
    "scoring='neg_mean_squared_error'\n",
    "\n",
    "RFreg=RandomForestRegressor()\n",
    "grid_search = GridSearchCV(RFreg, param_grid, cv=10,scoring=scoring,return_train_score=True)\n",
    "grid_search.fit(X_train, y_train)\n",
    "print(grid_search.best_score_)\n",
    "print(grid_search.best_estimator_)"
   ]
  },
  {
   "cell_type": "markdown",
   "id": "3dedda6c",
   "metadata": {},
   "source": [
    "#### Tuning Sans log"
   ]
  },
  {
   "cell_type": "code",
   "execution_count": 229,
   "id": "e044b1cf",
   "metadata": {},
   "outputs": [
    {
     "name": "stdout",
     "output_type": "stream",
     "text": [
      "-10859908779161.967\n",
      "RandomForestRegressor(max_features=8, n_estimators=500)\n"
     ]
    }
   ],
   "source": [
    "y_train_sans_log=np.exp(y_train)\n",
    "RFreg=RandomForestRegressor()\n",
    "grid_search = GridSearchCV(RFreg, param_grid, cv=10,scoring=scoring,return_train_score=True)\n",
    "grid_search.fit(X_train, y_train_sans_log)\n",
    "print(grid_search.best_score_)\n",
    "print(grid_search.best_estimator_)"
   ]
  },
  {
   "cell_type": "markdown",
   "id": "e4b44a0d",
   "metadata": {},
   "source": [
    "## Prediction Avec ENERGYSTARScore"
   ]
  },
  {
   "cell_type": "markdown",
   "id": "f9da6133",
   "metadata": {},
   "source": [
    "### Preparation des données"
   ]
  },
  {
   "cell_type": "code",
   "execution_count": 230,
   "id": "2fd89cf8",
   "metadata": {},
   "outputs": [],
   "source": [
    "# Suppression \n",
    "X = df.drop(['GHGEmissionsIntensity(kgCO2e/ft2)','TotalGHGEmissions','SiteEnergyUse(kBtu)','TotalGHGEmissions_log','SiteEnergyUse(kBtu)_log'],axis=1) \n",
    "X=df_new.values\n",
    "y = df['TotalGHGEmissions'].values"
   ]
  },
  {
   "cell_type": "markdown",
   "id": "543d1bc4",
   "metadata": {},
   "source": [
    "### Modelisation avec l'algorithme de regression seul"
   ]
  },
  {
   "cell_type": "code",
   "execution_count": 231,
   "id": "39c0b611",
   "metadata": {},
   "outputs": [],
   "source": [
    "# Instanciation du modele et détermination des paramètres\n",
    "reg = LinearRegression()\n",
    "reg.fit(X_train_scaled, y_train)\n",
    "\n",
    "#Prediction\n",
    "y_pred = reg.predict(X_test_scaled)"
   ]
  },
  {
   "cell_type": "markdown",
   "id": "97d385be",
   "metadata": {},
   "source": [
    "#### Etude avec log"
   ]
  },
  {
   "cell_type": "code",
   "execution_count": 232,
   "id": "1e10502b",
   "metadata": {},
   "outputs": [
    {
     "data": {
      "text/plain": [
       "Text(0, 0.5, 'Y_pred')"
      ]
     },
     "execution_count": 232,
     "metadata": {},
     "output_type": "execute_result"
    },
    {
     "data": {
      "image/png": "[encoded data removed]",
      "text/plain": [
       "<Figure size 432x288 with 1 Axes>"
      ]
     },
     "metadata": {
      "needs_background": "light"
     },
     "output_type": "display_data"
    }
   ],
   "source": [
    "# Ploting(y_test, prediction) avec transformation logarithmique de la variable à expliquer.\n",
    "plt.scatter(y_test,y_pred,marker=\"+\")\n",
    "plt.xlabel('Y_test')\n",
    "plt.ylabel('Y_pred')"
   ]
  },
  {
   "cell_type": "code",
   "execution_count": 233,
   "id": "ff19ec34",
   "metadata": {},
   "outputs": [
    {
     "name": "stdout",
     "output_type": "stream",
     "text": [
      "MAE: 0.6986204001492061\n",
      "MSE: 0.7833585430657743\n",
      "RMSE: 0.8850754448439829\n",
      "R2 Score: 0.42288365858967103\n"
     ]
    }
   ],
   "source": [
    "# Evaluation de la Performance du modele par des métriques classiques\n",
    "\n",
    "print('MAE:', metrics.mean_absolute_error(y_test, y_pred))\n",
    "print('MSE:', metrics.mean_squared_error(y_test, y_pred))\n",
    "print('RMSE:', np.sqrt(metrics.mean_squared_error(y_test, y_pred)))\n",
    "print('R2 Score:', metrics.r2_score(y_test,y_pred))"
   ]
  },
  {
   "cell_type": "markdown",
   "id": "b11904fd",
   "metadata": {},
   "source": [
    "**Coefficients du modele lineaire**"
   ]
  },
  {
   "cell_type": "code",
   "execution_count": 234,
   "id": "c0bfc4fa",
   "metadata": {},
   "outputs": [
    {
     "data": {
      "text/html": [
       "<div>\n",
       "<style scoped>\n",
       "    .dataframe tbody tr th:only-of-type {\n",
       "        vertical-align: middle;\n",
       "    }\n",
       "\n",
       "    .dataframe tbody tr th {\n",
       "        vertical-align: top;\n",
       "    }\n",
       "\n",
       "    .dataframe thead th {\n",
       "        text-align: right;\n",
       "    }\n",
       "</style>\n",
       "<table border=\"1\" class=\"dataframe\">\n",
       "  <thead>\n",
       "    <tr style=\"text-align: right;\">\n",
       "      <th></th>\n",
       "      <th>Coefficients</th>\n",
       "    </tr>\n",
       "  </thead>\n",
       "  <tbody>\n",
       "    <tr>\n",
       "      <th>NumberofBuildings</th>\n",
       "      <td>-5.254255e-02</td>\n",
       "    </tr>\n",
       "    <tr>\n",
       "      <th>YearBuilt</th>\n",
       "      <td>2.056107e-01</td>\n",
       "    </tr>\n",
       "    <tr>\n",
       "      <th>PropertyGFATotal</th>\n",
       "      <td>6.528408e-01</td>\n",
       "    </tr>\n",
       "    <tr>\n",
       "      <th>Electricity(kBtu)_Prc</th>\n",
       "      <td>-3.353602e+11</td>\n",
       "    </tr>\n",
       "    <tr>\n",
       "      <th>NaturalGas(kBtu)_Prc</th>\n",
       "      <td>-3.333223e+11</td>\n",
       "    </tr>\n",
       "    <tr>\n",
       "      <th>SteamUse(kBtu)_Prc</th>\n",
       "      <td>-1.100035e+11</td>\n",
       "    </tr>\n",
       "    <tr>\n",
       "      <th>CouncilDistrictCode_1</th>\n",
       "      <td>3.334974e+11</td>\n",
       "    </tr>\n",
       "    <tr>\n",
       "      <th>CouncilDistrictCode_2</th>\n",
       "      <td>5.871725e+11</td>\n",
       "    </tr>\n",
       "    <tr>\n",
       "      <th>CouncilDistrictCode_3</th>\n",
       "      <td>4.232864e+11</td>\n",
       "    </tr>\n",
       "    <tr>\n",
       "      <th>CouncilDistrictCode_4</th>\n",
       "      <td>4.166511e+11</td>\n",
       "    </tr>\n",
       "    <tr>\n",
       "      <th>CouncilDistrictCode_5</th>\n",
       "      <td>3.744521e+11</td>\n",
       "    </tr>\n",
       "    <tr>\n",
       "      <th>CouncilDistrictCode_6</th>\n",
       "      <td>3.425827e+11</td>\n",
       "    </tr>\n",
       "    <tr>\n",
       "      <th>CouncilDistrictCode_7</th>\n",
       "      <td>6.414997e+11</td>\n",
       "    </tr>\n",
       "  </tbody>\n",
       "</table>\n",
       "</div>"
      ],
      "text/plain": [
       "                       Coefficients\n",
       "NumberofBuildings     -5.254255e-02\n",
       "YearBuilt              2.056107e-01\n",
       "PropertyGFATotal       6.528408e-01\n",
       "Electricity(kBtu)_Prc -3.353602e+11\n",
       "NaturalGas(kBtu)_Prc  -3.333223e+11\n",
       "SteamUse(kBtu)_Prc    -1.100035e+11\n",
       "CouncilDistrictCode_1  3.334974e+11\n",
       "CouncilDistrictCode_2  5.871725e+11\n",
       "CouncilDistrictCode_3  4.232864e+11\n",
       "CouncilDistrictCode_4  4.166511e+11\n",
       "CouncilDistrictCode_5  3.744521e+11\n",
       "CouncilDistrictCode_6  3.425827e+11\n",
       "CouncilDistrictCode_7  6.414997e+11"
      ]
     },
     "execution_count": 234,
     "metadata": {},
     "output_type": "execute_result"
    }
   ],
   "source": [
    "# Affichage des coefficients\n",
    "Coefficient=pd.DataFrame(reg.coef_,df_new.columns)\n",
    "Coefficient.columns=['Coefficients']\n",
    "Coefficient "
   ]
  },
  {
   "cell_type": "markdown",
   "id": "4f299ad4",
   "metadata": {},
   "source": [
    "#### Etude sans log"
   ]
  },
  {
   "cell_type": "code",
   "execution_count": 235,
   "id": "555623a7",
   "metadata": {},
   "outputs": [
    {
     "data": {
      "text/plain": [
       "Text(0, 0.5, 'Y_pred')"
      ]
     },
     "execution_count": 235,
     "metadata": {},
     "output_type": "execute_result"
    },
    {
     "data": {
      "image/png": "[encoded data removed]",
      "text/plain": [
       "<Figure size 432x288 with 1 Axes>"
      ]
     },
     "metadata": {
      "needs_background": "light"
     },
     "output_type": "display_data"
    }
   ],
   "source": [
    "#Ploting(y_test, prediction) sans  logarithme\n",
    "plt.scatter(np.exp(y_test),y_pred,marker=\"+\")\n",
    "plt.xlabel('Y_test')\n",
    "plt.ylabel('Y_pred')"
   ]
  },
  {
   "cell_type": "code",
   "execution_count": 236,
   "id": "acfbeb1d",
   "metadata": {},
   "outputs": [
    {
     "name": "stdout",
     "output_type": "stream",
     "text": [
      "MAE: 5272353.160851499\n",
      "MSE: 70791688341570.11\n",
      "RMSE: 8413779.670372294\n",
      "R2 Score: -0.6465485612237714\n"
     ]
    }
   ],
   "source": [
    "# Evaluation de la Performance du modele par des métriques classiques(sans log)\n",
    "y_test_sans_log=np.exp(y_test)\n",
    "\n",
    "print('MAE:', metrics.mean_absolute_error(y_test_sans_log, y_pred))\n",
    "print('MSE:', metrics.mean_squared_error(y_test_sans_log, y_pred))\n",
    "print('RMSE:', np.sqrt(metrics.mean_squared_error(y_test_sans_log, y_pred)))\n",
    "print('R2 Score:', metrics.r2_score(y_test_sans_log,y_pred))"
   ]
  },
  {
   "cell_type": "markdown",
   "id": "a3a24011",
   "metadata": {},
   "source": [
    "#### Cross-validation"
   ]
  },
  {
   "cell_type": "code",
   "execution_count": 237,
   "id": "8119eb40",
   "metadata": {},
   "outputs": [
    {
     "data": {
      "text/plain": [
       "array([-0.72094619, -0.75973175, -0.90793765, -0.6972626 , -0.85779263])"
      ]
     },
     "execution_count": 237,
     "metadata": {},
     "output_type": "execute_result"
    }
   ],
   "source": [
    "# Evaluation de la Performance du modele par cross-validation\n",
    "scoring=\"neg_mean_squared_error\"\n",
    "model=LinearRegression()\n",
    "kfold =KFold(n_splits=5, random_state=None)\n",
    "cv_resultats = cross_val_score(model,X_train_scaled,y_train, cv=kfold,scoring=scoring)\n",
    "\n",
    "cv_resultats"
   ]
  },
  {
   "cell_type": "markdown",
   "id": "65aad3c6",
   "metadata": {},
   "source": [
    "### Modélisation avec des algorithmes de regression"
   ]
  },
  {
   "cell_type": "code",
   "execution_count": 238,
   "id": "680e54db",
   "metadata": {},
   "outputs": [],
   "source": [
    "# Dictionnaire des Algorithmes\n",
    "\n",
    "models={}\n",
    "models={\n",
    "    ('LR',LinearRegression()),\n",
    "    ('RF', RandomForestRegressor()),\n",
    "    ('KNN', KNeighborsRegressor()),\n",
    "    ('RIDGE', Ridge()),\n",
    "    ('LASSO', Lasso()),\n",
    "    ('EN', ElasticNet()),\n",
    "    ('SVR',SVR()),\n",
    "       }\n",
    "\n",
    "# Métrique  utilisée\n",
    "scoring='neg_mean_squared_error' "
   ]
  },
  {
   "cell_type": "markdown",
   "id": "3cb09cbc",
   "metadata": {},
   "source": [
    "#### Etude avec log"
   ]
  },
  {
   "cell_type": "code",
   "execution_count": 239,
   "id": "b96b3c95",
   "metadata": {},
   "outputs": [
    {
     "name": "stdout",
     "output_type": "stream",
     "text": [
      "RIDGE: 0.775220, [0.114844]\n",
      "KNN: 0.539929, [0.106758]\n",
      "LASSO: 0.829818, [0.114615]\n",
      "LR: 0.775300, [0.114746]\n",
      "SVR: 0.547297, [0.089754]\n",
      "RF: 0.319500, [0.069134]\n",
      "EN: 0.828943, [0.114731]\n"
     ]
    }
   ],
   "source": [
    "         \n",
    "# Evaluation de chaque modele\n",
    "resultats = []\n",
    "names = []\n",
    "for name, model in models:\n",
    "    kfold = KFold(n_splits=10, random_state=None)\n",
    "    cv_resultats = cross_val_score(model, X_train, y_train, cv=kfold, scoring=scoring)\n",
    "    resultats.append(cv_resultats)\n",
    "    names.append(name)\n",
    "    print(\"%s: %f, [%f]\" % (name, -cv_resultats.mean(), cv_resultats.std()))"
   ]
  },
  {
   "cell_type": "markdown",
   "id": "a4b06852",
   "metadata": {},
   "source": [
    "#### Etude sans  log"
   ]
  },
  {
   "cell_type": "code",
   "execution_count": 240,
   "id": "6a06e2ab",
   "metadata": {},
   "outputs": [
    {
     "name": "stdout",
     "output_type": "stream",
     "text": [
      "RIDGE: 0.775220, [0.114844]\n",
      "KNN: 0.539929, [0.106758]\n",
      "LASSO: 0.829818, [0.114615]\n",
      "LR: 0.775300, [0.114746]\n",
      "SVR: 0.547297, [0.089754]\n",
      "RF: 0.318276, [0.071990]\n",
      "EN: 0.828943, [0.114731]\n"
     ]
    }
   ],
   "source": [
    "# Evaluation de chaque modele sans transformation logarithmique de la cible.\n",
    "y_train_sans_log=np.exp(y_train)\n",
    "\n",
    "resultats = []\n",
    "names = []\n",
    "for name, model in models:\n",
    "    kfold = KFold(n_splits=10, random_state=None)\n",
    "    cv_resultats = cross_val_score(model, X_train, y_train, cv=kfold, scoring=scoring)\n",
    "    resultats.append(cv_resultats)\n",
    "    names.append(name)\n",
    "    print(\"%s: %f, [%f]\" % (name, -cv_resultats.mean(), cv_resultats.std()))"
   ]
  },
  {
   "cell_type": "markdown",
   "id": "9f2c0e6c",
   "metadata": {},
   "source": [
    "#### Tuning"
   ]
  },
  {
   "cell_type": "code",
   "execution_count": 241,
   "id": "56b975ff",
   "metadata": {},
   "outputs": [
    {
     "name": "stdout",
     "output_type": "stream",
     "text": [
      "-0.3110747225512618\n",
      "RandomForestRegressor(max_features=8, n_estimators=200)\n"
     ]
    }
   ],
   "source": [
    "# Tuning  RandomForestRegressor\n",
    "param_grid = [\n",
    "                {'n_estimators': [200,300,500], \n",
    "                'max_features': [4, 8,12]}\n",
    "             ]\n",
    "scoring='neg_mean_squared_error'\n",
    "\n",
    "RFreg=RandomForestRegressor()\n",
    "grid_search = GridSearchCV(RFreg, param_grid, cv=10,scoring=scoring,return_train_score=True)\n",
    "grid_search.fit(X_train, y_train)\n",
    "print(grid_search.best_score_)\n",
    "print(grid_search.best_estimator_)"
   ]
  },
  {
   "cell_type": "code",
   "execution_count": 242,
   "id": "e1c56ccd",
   "metadata": {},
   "outputs": [],
   "source": [
    "#  FIN  #"
   ]
  },
  {
   "cell_type": "code",
   "execution_count": null,
   "id": "2e4a6f7d",
   "metadata": {},
   "outputs": [],
   "source": []
  }
 ],
 "metadata": {
  "kernelspec": {
   "display_name": "Python 3",
   "language": "python",
   "name": "python3"
  },
  "language_info": {
   "codemirror_mode": {
    "name": "ipython",
    "version": 3
   },
   "file_extension": ".py",
   "mimetype": "text/x-python",
   "name": "python",
   "nbconvert_exporter": "python",
   "pygments_lexer": "ipython3",
   "version": "3.8.8"
  },
  "toc": {
   "base_numbering": 1,
   "nav_menu": {},
   "number_sections": true,
   "sideBar": true,
   "skip_h1_title": false,
   "title_cell": "Table of Contents",
   "title_sidebar": "Contents",
   "toc_cell": false,
   "toc_position": {
    "height": "calc(100% - 180px)",
    "left": "10px",
    "top": "150px",
    "width": "273.2px"
   },
   "toc_section_display": true,
   "toc_window_display": true
  }
 },
 "nbformat": 4,
 "nbformat_minor": 5
}
